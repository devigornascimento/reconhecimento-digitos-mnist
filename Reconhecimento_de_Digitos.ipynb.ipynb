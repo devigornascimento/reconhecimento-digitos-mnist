{
 "cells": [
  {
   "cell_type": "code",
   "execution_count": null,
   "id": "acde4c5d-ba48-4d19-8190-31a068aa7e1b",
   "metadata": {},
   "outputs": [],
   "source": [
    "import tensorflow as tf\n",
    "import numpy as np\n",
    "import matplotlib.pyplot as plt\n",
    "\n",
    "print(\"Bibliotecas importadas com sucesso!\")"
   ]
  },
  {
   "cell_type": "code",
   "execution_count": null,
   "id": "39c0cbd8-e8c3-4223-8e9c-fb05295e04ff",
   "metadata": {},
   "outputs": [],
   "source": [
    "(x_train, y_train), (x_test, y_test) = tf.keras.datasets.mnist.load_data()"
   ]
  },
  {
   "cell_type": "code",
   "execution_count": null,
   "id": "25f5a63c-91de-443a-b055-548eb4079e9a",
   "metadata": {},
   "outputs": [],
   "source": [
    "print(\"Formato das imagens de treino:\", x_train.shape)\n",
    "print(\"Formato dos rótulos de treino:\", y_train.shape)\n",
    "print(\"Formato das imagens de teste:\", x_test.shape)\n",
    "print(\"Quantidade de rótulos de treino:\", len(y_train))\n",
    "print(\"Exemplo dos primeiros rótulos:\", y_train[:5])"
   ]
  },
  {
   "cell_type": "code",
   "execution_count": null,
   "id": "9836376d-9739-4c23-9107-ce4bd5f0b5fc",
   "metadata": {},
   "outputs": [],
   "source": [
    "#pega a primeira imagem de treino\n",
    "primeira_imagem = x_train[0]\n",
    "primeiro_rotulo = y_train[0]\n",
    "\n",
    "#mostra a imagem\n",
    "plt.imshow(primeira_imagem, cmap='gray')\n",
    "plt.title(f\"Rotulo (label): {primeiro_rotulo}\")\n",
    "plt.show()\n"
   ]
  },
  {
   "cell_type": "code",
   "execution_count": null,
   "id": "81d60c84-3139-48d1-8148-1851a93cac67",
   "metadata": {},
   "outputs": [],
   "source": [
    "#Converção dos tipos de dados para float32 e normaliza\n",
    "x_train = x_train.astype('float32') / 255.0\n",
    "x_test = x_test.astype('float32') / 255.0\n",
    "\n",
    "#verifica se a normalização funcionou (valores devem estar entre 0 e 1)\n",
    "print(\"\\n Valores minimos e maximos apos a normalização:\")\n",
    "print(x_train.min(), x_train.max())\n",
    "print(x_test.min(), x_test.max())"
   ]
  },
  {
   "cell_type": "code",
   "execution_count": null,
   "id": "a2cbe33f-11f6-4d64-88e6-470e53dec6d4",
   "metadata": {
    "scrolled": true
   },
   "outputs": [],
   "source": [
    "#adicionar uma dimensao para o canal de cor\n",
    "x_train = np.expand_dims(x_train, -1)\n",
    "x_test = np.expand_dims(x_test, -1)\n",
    "\n",
    "print(\"Novo formato das imagens de treino:\", x_train.shape)\n",
    "print(\"Novo formato das imagens de teste:\", x_test.shape)\n"
   ]
  },
  {
   "cell_type": "code",
   "execution_count": null,
   "id": "9baac8a6-09a0-4289-a40d-39d20356b9d4",
   "metadata": {},
   "outputs": [],
   "source": [
    "num_classes = 10\n",
    "y_train = tf.keras.utils.to_categorical(y_train, num_classes)\n",
    "y_test = tf.keras.utils.to_categorical(y_test, num_classes)\n",
    "\n",
    "print(\"Rótulo original (exemplo):\", 5) # Exemplo de como era antes\n",
    "print(\"Rótulo após One-Hot Encoding:\", y_train[0]) # y_train[0] corresponde ao dígito 5"
   ]
  },
  {
   "cell_type": "code",
   "execution_count": null,
   "id": "54b0c93d-e068-4621-a18f-6dfec3dbd79f",
   "metadata": {},
   "outputs": [],
   "source": [
    "model = tf.keras.models.Sequential([\n",
    "    tf.keras.layers.Conv2D(32, kernel_size = (3, 3), activation = 'relu', input_shape = (28, 28, 1)),\n",
    "    tf.keras.layers.MaxPooling2D(pool_size = (2, 2)),\n",
    "\n",
    "    tf.keras.layers.Conv2D(64, kernel_size = (3, 3), activation = 'relu'),\n",
    "    tf.keras.layers.MaxPooling2D(pool_size = (2, 2)),\n",
    "\n",
    "    tf.keras.layers.Flatten(),\n",
    "\n",
    "    tf.keras.layers.Dense(128, activation = 'relu'),\n",
    "\n",
    "    tf.keras.layers.Dense(num_classes, activation = 'softmax')\n",
    "])"
   ]
  },
  {
   "cell_type": "code",
   "execution_count": null,
   "id": "75df90ac-32a1-4f13-9898-c557635671a4",
   "metadata": {},
   "outputs": [],
   "source": [
    "model.summary()"
   ]
  },
  {
   "cell_type": "code",
   "execution_count": null,
   "id": "c258ea91-70ce-4b0e-a21a-5013322da66a",
   "metadata": {},
   "outputs": [],
   "source": [
    "model.compile(optimizer = 'adam',\n",
    "              loss = 'categorical_crossentropy',\n",
    "              metrics = ['accuracy'])"
   ]
  },
  {
   "cell_type": "code",
   "execution_count": null,
   "id": "d02729c0-8962-463c-9877-cb2b2a020a4c",
   "metadata": {},
   "outputs": [],
   "source": [
    "#Definindo parametros do treinamento\n",
    "batch_size = 128\n",
    "epochs = 15\n",
    "\n",
    "#iniciando o treinamento\n",
    "history = model.fit(x_train, y_train,\n",
    "                    batch_size = batch_size,\n",
    "                    epochs = epochs,\n",
    "                    validation_split = 0.1)"
   ]
  },
  {
   "cell_type": "code",
   "execution_count": null,
   "id": "47a006df-8ab3-4976-82b4-2d865bea28ee",
   "metadata": {},
   "outputs": [],
   "source": [
    "score = model.evaluate(x_test, y_test, verbose = 0)\n",
    "\n",
    "print(\"Losss no conjunto de teste: \", score[0])\n",
    "print(f\"Acuracia no conjunto de teste: {score[1] * 100:.2f}%\")"
   ]
  },
  {
   "cell_type": "code",
   "execution_count": null,
   "id": "53298db9-24d6-49ad-9f71-64b8b6ba3fa9",
   "metadata": {},
   "outputs": [],
   "source": [
    "#Grafico de acuracia\n",
    "plt.figure(figsize=(10, 5))\n",
    "plt.plot(history.history['accuracy'], label='Acurácia de Treino')\n",
    "plt.plot(history.history['val_accuracy'], label='Acurácia de Validação')\n",
    "plt.title('Acurácia do Modelo por Época')\n",
    "plt.ylabel('Acurácia')\n",
    "plt.xlabel('Época')\n",
    "plt.legend(loc='lower right')\n",
    "plt.grid(True)\n",
    "plt.show()"
   ]
  },
  {
   "cell_type": "code",
   "execution_count": null,
   "id": "57b75c28-099d-4bff-8b44-d6d12780b707",
   "metadata": {},
   "outputs": [],
   "source": [
    "#grafico de perda\n",
    "plt.figure(figsize=(10, 5))\n",
    "plt.plot(history.history['loss'], label='Perda de Treino')\n",
    "plt.plot(history.history['val_loss'], label='Perda de Validação')\n",
    "plt.title('Perda do Modelo por Época')\n",
    "plt.ylabel('Perda')\n",
    "plt.xlabel('Época')\n",
    "plt.legend(loc='upper right')\n",
    "plt.grid(True)\n",
    "plt.show()"
   ]
  },
  {
   "cell_type": "code",
   "execution_count": null,
   "id": "6574ee35-89b3-49f9-9f5c-6a8fe92228f7",
   "metadata": {},
   "outputs": [],
   "source": []
  }
 ],
 "metadata": {
  "kernelspec": {
   "display_name": "Python 3 (ipykernel)",
   "language": "python",
   "name": "python3"
  },
  "language_info": {
   "codemirror_mode": {
    "name": "ipython",
    "version": 3
   },
   "file_extension": ".py",
   "mimetype": "text/x-python",
   "name": "python",
   "nbconvert_exporter": "python",
   "pygments_lexer": "ipython3",
   "version": "3.11.9"
  }
 },
 "nbformat": 4,
 "nbformat_minor": 5
}
